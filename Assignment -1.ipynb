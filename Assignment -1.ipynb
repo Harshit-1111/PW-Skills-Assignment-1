{
 "cells": [
  {
   "cell_type": "code",
   "execution_count": null,
   "id": "df5bada7-0b7a-4f1e-a1de-dfb93273745a",
   "metadata": {},
   "outputs": [],
   "source": [
    "#Q1. Create one variable containing following type of data:\n",
    "#(i) string\n",
    "#(ii) float\n",
    "#(iv) tuple\n",
    "#(iii) list"
   ]
  },
  {
   "cell_type": "code",
   "execution_count": 1,
   "id": "be76a9de-69a9-4b98-a43a-87b5bea3d017",
   "metadata": {},
   "outputs": [],
   "source": [
    "a = \"Harshit\""
   ]
  },
  {
   "cell_type": "code",
   "execution_count": 2,
   "id": "33e7e78e-e84d-4637-98c8-ef978f5165a8",
   "metadata": {},
   "outputs": [
    {
     "data": {
      "text/plain": [
       "str"
      ]
     },
     "execution_count": 2,
     "metadata": {},
     "output_type": "execute_result"
    }
   ],
   "source": [
    "type(a)"
   ]
  },
  {
   "cell_type": "code",
   "execution_count": 3,
   "id": "9e7a293d-ea8f-4f77-91a0-3ef05523cd40",
   "metadata": {},
   "outputs": [],
   "source": [
    "b = 33.45"
   ]
  },
  {
   "cell_type": "code",
   "execution_count": 4,
   "id": "6befc771-565c-42ac-b03a-c8ac9ff983b5",
   "metadata": {},
   "outputs": [
    {
     "data": {
      "text/plain": [
       "float"
      ]
     },
     "execution_count": 4,
     "metadata": {},
     "output_type": "execute_result"
    }
   ],
   "source": [
    "type(b)"
   ]
  },
  {
   "cell_type": "code",
   "execution_count": 5,
   "id": "d330966d-bb3a-4d98-89e0-cfe279aa1791",
   "metadata": {},
   "outputs": [],
   "source": [
    "t = (1,2,3,4,5)"
   ]
  },
  {
   "cell_type": "code",
   "execution_count": 6,
   "id": "107aa68c-9b81-4f94-8433-a0d9eb592454",
   "metadata": {},
   "outputs": [
    {
     "data": {
      "text/plain": [
       "tuple"
      ]
     },
     "execution_count": 6,
     "metadata": {},
     "output_type": "execute_result"
    }
   ],
   "source": [
    "type(t)"
   ]
  },
  {
   "cell_type": "code",
   "execution_count": 8,
   "id": "77ebbdcb-fbfb-474a-b8dc-8c2e174097cb",
   "metadata": {},
   "outputs": [],
   "source": [
    "l = [1,2,3,\"Jay\",True]"
   ]
  },
  {
   "cell_type": "code",
   "execution_count": 9,
   "id": "103aa66a-2310-4eee-9e52-05bd8bdf37fe",
   "metadata": {},
   "outputs": [
    {
     "data": {
      "text/plain": [
       "list"
      ]
     },
     "execution_count": 9,
     "metadata": {},
     "output_type": "execute_result"
    }
   ],
   "source": [
    "type(l)"
   ]
  },
  {
   "cell_type": "code",
   "execution_count": null,
   "id": "641f2ecb-115a-4a37-aab4-f8b69295701d",
   "metadata": {},
   "outputs": [],
   "source": [
    "#Q2. Given are some following variables containing data:\n",
    "#(i) var1 = ‘ ‘\n",
    "#(ii) var2 = ‘[ DS , ML , Python]’\n",
    "#(iii) var3 = [ ‘DS’ , ’ML’ , ‘Python’ ]\n",
    "#(iv) var4 = 1."
   ]
  },
  {
   "cell_type": "code",
   "execution_count": 11,
   "id": "ca3bdd1b-7f7c-4a27-a82a-40f4c1ad446e",
   "metadata": {},
   "outputs": [],
   "source": [
    "var1 = ' '"
   ]
  },
  {
   "cell_type": "code",
   "execution_count": 12,
   "id": "75fa4fc7-db96-45d4-80f8-98989385d7b6",
   "metadata": {},
   "outputs": [
    {
     "data": {
      "text/plain": [
       "str"
      ]
     },
     "execution_count": 12,
     "metadata": {},
     "output_type": "execute_result"
    }
   ],
   "source": [
    "type(var1)"
   ]
  },
  {
   "cell_type": "code",
   "execution_count": 13,
   "id": "1b85d03c-d014-4470-9cc6-e16e2432bec0",
   "metadata": {},
   "outputs": [],
   "source": [
    "var2 = '[ DS , ML , Python]'"
   ]
  },
  {
   "cell_type": "code",
   "execution_count": 15,
   "id": "ab54862a-1def-4a61-aab5-8bf432b5071d",
   "metadata": {},
   "outputs": [
    {
     "data": {
      "text/plain": [
       "str"
      ]
     },
     "execution_count": 15,
     "metadata": {},
     "output_type": "execute_result"
    }
   ],
   "source": [
    "type(var2)"
   ]
  },
  {
   "cell_type": "code",
   "execution_count": null,
   "id": "44ca7f28-fa36-4d78-b929-379f17a5474a",
   "metadata": {},
   "outputs": [],
   "source": [
    "Var3 = List"
   ]
  },
  {
   "cell_type": "code",
   "execution_count": 16,
   "id": "e0b249c3-433b-458d-94b6-9052a86e14b7",
   "metadata": {},
   "outputs": [],
   "source": [
    "Var4 = 1"
   ]
  },
  {
   "cell_type": "code",
   "execution_count": 17,
   "id": "10ef35ae-6f6d-4be9-b0a2-66075b01ec5e",
   "metadata": {},
   "outputs": [
    {
     "data": {
      "text/plain": [
       "int"
      ]
     },
     "execution_count": 17,
     "metadata": {},
     "output_type": "execute_result"
    }
   ],
   "source": [
    "type(Var4)"
   ]
  },
  {
   "cell_type": "code",
   "execution_count": null,
   "id": "3dc2d2d5-833b-4447-be2e-c9cb59f1e70b",
   "metadata": {},
   "outputs": [],
   "source": [
    "#Q3. Explain the use of the following operators using an example:\n",
    "#(i) /\n",
    "#(ii) %\n",
    "#(iii) //\n",
    "#(iv) **"
   ]
  },
  {
   "cell_type": "code",
   "execution_count": null,
   "id": "714ef6f7-338f-4dfe-aedb-b3f89a053e69",
   "metadata": {},
   "outputs": [],
   "source": [
    "# / is a division operator"
   ]
  },
  {
   "cell_type": "code",
   "execution_count": 18,
   "id": "f902cab8-bfc0-4490-86d6-857175da3ee2",
   "metadata": {},
   "outputs": [
    {
     "data": {
      "text/plain": [
       "2.0"
      ]
     },
     "execution_count": 18,
     "metadata": {},
     "output_type": "execute_result"
    }
   ],
   "source": [
    "10/5"
   ]
  },
  {
   "cell_type": "code",
   "execution_count": null,
   "id": "3cf2445b-2530-4d20-be79-53e9212877d2",
   "metadata": {},
   "outputs": [],
   "source": [
    "# % is a modulus operator"
   ]
  },
  {
   "cell_type": "code",
   "execution_count": 19,
   "id": "14f58a14-d641-40b1-933f-354278797f5c",
   "metadata": {},
   "outputs": [
    {
     "data": {
      "text/plain": [
       "0"
      ]
     },
     "execution_count": 19,
     "metadata": {},
     "output_type": "execute_result"
    }
   ],
   "source": [
    "10%5"
   ]
  },
  {
   "cell_type": "code",
   "execution_count": null,
   "id": "5699d0ef-1338-4d18-9daa-788317edc25f",
   "metadata": {},
   "outputs": [],
   "source": [
    "# // is floor division operator"
   ]
  },
  {
   "cell_type": "code",
   "execution_count": 20,
   "id": "ca3c2540-6f8a-4742-b991-84f0f67a8c7e",
   "metadata": {},
   "outputs": [
    {
     "data": {
      "text/plain": [
       "2"
      ]
     },
     "execution_count": 20,
     "metadata": {},
     "output_type": "execute_result"
    }
   ],
   "source": [
    "10//5"
   ]
  },
  {
   "cell_type": "code",
   "execution_count": null,
   "id": "c24352fa-be00-439a-89e4-e67ce16c736e",
   "metadata": {},
   "outputs": [],
   "source": [
    "# ** is exponential operator"
   ]
  },
  {
   "cell_type": "code",
   "execution_count": 21,
   "id": "0c882e76-ba33-422d-adda-34fcf4e987f8",
   "metadata": {},
   "outputs": [
    {
     "data": {
      "text/plain": [
       "8"
      ]
     },
     "execution_count": 21,
     "metadata": {},
     "output_type": "execute_result"
    }
   ],
   "source": [
    "2**3"
   ]
  },
  {
   "cell_type": "code",
   "execution_count": null,
   "id": "20b54f8b-9863-4690-ae81-cbe916e75798",
   "metadata": {},
   "outputs": [],
   "source": [
    "# Q4. Create a list of length 10 of your choice containing multiple types of data. Using for loop print the\n",
    "# element and its data type."
   ]
  },
  {
   "cell_type": "code",
   "execution_count": 22,
   "id": "3efb9de6-7651-44a6-9f24-7cff61456a68",
   "metadata": {},
   "outputs": [
    {
     "name": "stdout",
     "output_type": "stream",
     "text": [
      "<class 'int'>\n",
      "1\n",
      "<class 'int'>\n",
      "2\n",
      "<class 'int'>\n",
      "3\n",
      "<class 'int'>\n",
      "4\n",
      "<class 'int'>\n",
      "5\n",
      "<class 'str'>\n",
      "harshit\n",
      "<class 'float'>\n",
      "44.5\n",
      "<class 'bool'>\n",
      "True\n",
      "<class 'int'>\n",
      "8\n",
      "<class 'int'>\n",
      "9\n"
     ]
    }
   ],
   "source": [
    "l = [1,2,3,4,5,\"harshit\",44.5,True,8,9]\n",
    "for i in l:\n",
    "    print(type(i))\n",
    "    print(i)"
   ]
  },
  {
   "cell_type": "code",
   "execution_count": null,
   "id": "ff4ad6e9-8126-4061-9b8b-9fd763ae401a",
   "metadata": {},
   "outputs": [],
   "source": [
    "# Q5. Using a while loop, verify if the number A is purely divisible by number B and if so then how many\n",
    "#    times it can be divisible."
   ]
  },
  {
   "cell_type": "code",
   "execution_count": 53,
   "id": "beeb5803-375b-4cf9-9d98-e6dfee05e64b",
   "metadata": {},
   "outputs": [
    {
     "name": "stdin",
     "output_type": "stream",
     "text": [
      "Enter the number A:  6\n",
      "Enter the number B:  2\n"
     ]
    },
    {
     "name": "stdout",
     "output_type": "stream",
     "text": [
      "3.0 is not purely divisible by 2.\n"
     ]
    }
   ],
   "source": [
    "A = int(input(\"Enter the number A: \"))\n",
    "B = int(input(\"Enter the number B: \"))\n",
    "count = 0\n",
    "while A % B == 0:\n",
    "    A = A / B\n",
    "    count += 1 \n",
    "if A == 0:\n",
    "    print(f\"{A} is purely divisible by {B} and can be divided {count} times.\")\n",
    "else:\n",
    "    print(f\"{A} is not purely divisible by {B}.\")\n"
   ]
  },
  {
   "cell_type": "code",
   "execution_count": null,
   "id": "72727b2a-6df1-4e44-9a0e-6dff7dbce625",
   "metadata": {},
   "outputs": [],
   "source": [
    "#Q6. Create a list containing 25 int type data. Using for loop and if-else condition print if the element is\n",
    "#divisible by 3 or not."
   ]
  },
  {
   "cell_type": "code",
   "execution_count": 54,
   "id": "03d0047a-191e-4583-b50a-928da94ecfb1",
   "metadata": {},
   "outputs": [
    {
     "name": "stdout",
     "output_type": "stream",
     "text": [
      "1 is not divisible by 3\n",
      "2 is not divisible by 3\n",
      "3 is divisible by 3\n",
      "4 is not divisible by 3\n",
      "5 is not divisible by 3\n",
      "6 is divisible by 3\n",
      "7 is not divisible by 3\n",
      "8 is not divisible by 3\n",
      "9 is divisible by 3\n",
      "10 is not divisible by 3\n",
      "11 is not divisible by 3\n",
      "12 is divisible by 3\n",
      "13 is not divisible by 3\n",
      "14 is not divisible by 3\n",
      "15 is divisible by 3\n",
      "16 is not divisible by 3\n",
      "17 is not divisible by 3\n",
      "18 is divisible by 3\n",
      "19 is not divisible by 3\n",
      "20 is not divisible by 3\n",
      "21 is divisible by 3\n",
      "22 is not divisible by 3\n",
      "23 is not divisible by 3\n",
      "24 is divisible by 3\n",
      "25 is not divisible by 3\n"
     ]
    }
   ],
   "source": [
    "p = [1,2,3,4,5,6,7,8,9,10,11,12,13,14,15,16,17,18,19,20,21,22,23,24,25]\n",
    "for i in p:\n",
    "    if i%3 == 0:\n",
    "         print(f\"{i} is divisible by 3\")\n",
    "    else:\n",
    "            print(f\"{i} is not divisible by 3\")\n",
    "\n"
   ]
  },
  {
   "cell_type": "code",
   "execution_count": null,
   "id": "cc37b04e-1535-484d-99a3-16789ab82db7",
   "metadata": {},
   "outputs": [],
   "source": []
  },
  {
   "cell_type": "code",
   "execution_count": null,
   "id": "55bd6bf3-6927-4062-98d1-7475b7b5d55f",
   "metadata": {},
   "outputs": [],
   "source": [
    "Immutable data types are those whose values cannot be modified after they are created"
   ]
  },
  {
   "cell_type": "code",
   "execution_count": 55,
   "id": "b385d8b5-5e60-45d3-aebb-8074118bb7dc",
   "metadata": {},
   "outputs": [],
   "source": [
    "x = 5\n",
    "x += 1\n"
   ]
  },
  {
   "cell_type": "code",
   "execution_count": 56,
   "id": "3eeada22-9ed5-4c60-ba18-69d5d5dbbfc2",
   "metadata": {},
   "outputs": [
    {
     "data": {
      "text/plain": [
       "6"
      ]
     },
     "execution_count": 56,
     "metadata": {},
     "output_type": "execute_result"
    }
   ],
   "source": [
    "x"
   ]
  },
  {
   "cell_type": "code",
   "execution_count": null,
   "id": "1f98ccb3-e6bd-47d0-b2a8-4008fe3953e3",
   "metadata": {},
   "outputs": [],
   "source": [
    "Mutable data types, on the other hand, are those whose values can be modified after creation"
   ]
  },
  {
   "cell_type": "code",
   "execution_count": 57,
   "id": "d0360b07-5564-4f41-9ee0-f9b83fa3248c",
   "metadata": {},
   "outputs": [],
   "source": [
    "l = [1,2,3,4]"
   ]
  },
  {
   "cell_type": "code",
   "execution_count": 58,
   "id": "41ab5de2-a669-4c49-a564-dac29eeb78e7",
   "metadata": {},
   "outputs": [
    {
     "ename": "SyntaxError",
     "evalue": "cannot assign to function call here. Maybe you meant '==' instead of '='? (418373359.py, line 1)",
     "output_type": "error",
     "traceback": [
      "\u001b[0;36m  Cell \u001b[0;32mIn[58], line 1\u001b[0;36m\u001b[0m\n\u001b[0;31m    l(1) = 7\u001b[0m\n\u001b[0m    ^\u001b[0m\n\u001b[0;31mSyntaxError\u001b[0m\u001b[0;31m:\u001b[0m cannot assign to function call here. Maybe you meant '==' instead of '='?\n"
     ]
    }
   ],
   "source": [
    "l(1) = 7"
   ]
  }
 ],
 "metadata": {
  "kernelspec": {
   "display_name": "Python 3 (ipykernel)",
   "language": "python",
   "name": "python3"
  },
  "language_info": {
   "codemirror_mode": {
    "name": "ipython",
    "version": 3
   },
   "file_extension": ".py",
   "mimetype": "text/x-python",
   "name": "python",
   "nbconvert_exporter": "python",
   "pygments_lexer": "ipython3",
   "version": "3.10.8"
  }
 },
 "nbformat": 4,
 "nbformat_minor": 5
}
